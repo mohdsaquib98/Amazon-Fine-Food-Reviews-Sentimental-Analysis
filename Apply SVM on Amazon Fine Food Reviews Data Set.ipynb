{
 "cells": [
  {
   "cell_type": "markdown",
   "metadata": {},
   "source": [
    "### Objective - Apply SVM on Amazon reviews data set."
   ]
  },
  {
   "cell_type": "code",
   "execution_count": 49,
   "metadata": {},
   "outputs": [],
   "source": [
    "%matplotlib inline\n",
    "\n",
    "import sqlite3\n",
    "import pandas as pd\n",
    "import numpy as np\n",
    "import nltk\n",
    "import string\n",
    "import matplotlib.pyplot as plt\n",
    "import seaborn as sns\n",
    "from sklearn.feature_extraction.text import TfidfTransformer\n",
    "from sklearn.feature_extraction.text import TfidfVectorizer\n",
    "\n",
    "from sklearn.feature_extraction.text import CountVectorizer\n",
    "from sklearn.metrics import confusion_matrix\n",
    "from sklearn import metrics\n",
    "from sklearn.metrics import roc_curve, auc\n",
    "from nltk.stem.porter import PorterStemmer\n",
    "from prettytable import PrettyTable\n",
    "from sklearn import svm\n",
    "from sklearn import linear_model\n",
    "from sklearn.svm import SVC, LinearSVC, NuSVC\n",
    "from sklearn.model_selection import GridSearchCV\n",
    "from sklearn.model_selection import TimeSeriesSplit\n",
    "from sklearn.decomposition import TruncatedSVD\n",
    "from sklearn.pipeline import make_pipeline\n",
    "from sklearn.preprocessing import Normalizer\n",
    "\n",
    "import re\n",
    "# Tutorial about Python regular expressions: https://pymotw.com/2/re/\n",
    "import string\n",
    "from nltk.corpus import stopwords\n",
    "from nltk.stem import PorterStemmer\n",
    "from nltk.stem.wordnet import WordNetLemmatizer\n",
    "\n",
    "from gensim.models import Word2Vec\n",
    "from gensim.models import KeyedVectors\n",
    "import pickle\n",
    "\n",
    "from tqdm import tqdm\n",
    "import os\n",
    "\n",
    "import warnings\n",
    "warnings.filterwarnings(\"ignore\")"
   ]
  },
  {
   "cell_type": "markdown",
   "metadata": {},
   "source": [
    "#### Loading the data"
   ]
  },
  {
   "cell_type": "code",
   "execution_count": 2,
   "metadata": {
    "scrolled": true
   },
   "outputs": [],
   "source": [
    "# using the SQLite Table to read data.\n",
    "con = sqlite3.connect(\"/Users/mohdsaquib/Downloads/database.sqlite\") \n",
    "\n",
    "#filtering only positive and negative reviews i.e. \n",
    "# not taking into consideration those reviews with Score=3\n",
    "filtered_data = pd.read_sql_query(\"\"\"SELECT * FROM Reviews WHERE Score != 3\"\"\", con) \n",
    "\n",
    "# Give reviews with Score>3 a positive rating, and reviews with a score<3 a negative rating.\n",
    "def partition(x):\n",
    "    if x < 3:\n",
    "        return 0\n",
    "    return 1\n",
    "\n",
    "#changing reviews with score less than 3 to be 0 and vice-versa\n",
    "actualScore = filtered_data['Score']\n",
    "positiveNegative = actualScore.map(partition) \n",
    "filtered_data['Score'] = positiveNegative"
   ]
  },
  {
   "cell_type": "code",
   "execution_count": 3,
   "metadata": {},
   "outputs": [
    {
     "name": "stdout",
     "output_type": "stream",
     "text": [
      "(525814, 10)\n"
     ]
    },
    {
     "data": {
      "text/html": [
       "<div>\n",
       "<style scoped>\n",
       "    .dataframe tbody tr th:only-of-type {\n",
       "        vertical-align: middle;\n",
       "    }\n",
       "\n",
       "    .dataframe tbody tr th {\n",
       "        vertical-align: top;\n",
       "    }\n",
       "\n",
       "    .dataframe thead th {\n",
       "        text-align: right;\n",
       "    }\n",
       "</style>\n",
       "<table border=\"1\" class=\"dataframe\">\n",
       "  <thead>\n",
       "    <tr style=\"text-align: right;\">\n",
       "      <th></th>\n",
       "      <th>Id</th>\n",
       "      <th>ProductId</th>\n",
       "      <th>UserId</th>\n",
       "      <th>ProfileName</th>\n",
       "      <th>HelpfulnessNumerator</th>\n",
       "      <th>HelpfulnessDenominator</th>\n",
       "      <th>Score</th>\n",
       "      <th>Time</th>\n",
       "      <th>Summary</th>\n",
       "      <th>Text</th>\n",
       "    </tr>\n",
       "  </thead>\n",
       "  <tbody>\n",
       "    <tr>\n",
       "      <th>0</th>\n",
       "      <td>1</td>\n",
       "      <td>B001E4KFG0</td>\n",
       "      <td>A3SGXH7AUHU8GW</td>\n",
       "      <td>delmartian</td>\n",
       "      <td>1</td>\n",
       "      <td>1</td>\n",
       "      <td>1</td>\n",
       "      <td>1303862400</td>\n",
       "      <td>Good Quality Dog Food</td>\n",
       "      <td>I have bought several of the Vitality canned d...</td>\n",
       "    </tr>\n",
       "    <tr>\n",
       "      <th>1</th>\n",
       "      <td>2</td>\n",
       "      <td>B00813GRG4</td>\n",
       "      <td>A1D87F6ZCVE5NK</td>\n",
       "      <td>dll pa</td>\n",
       "      <td>0</td>\n",
       "      <td>0</td>\n",
       "      <td>0</td>\n",
       "      <td>1346976000</td>\n",
       "      <td>Not as Advertised</td>\n",
       "      <td>Product arrived labeled as Jumbo Salted Peanut...</td>\n",
       "    </tr>\n",
       "    <tr>\n",
       "      <th>2</th>\n",
       "      <td>3</td>\n",
       "      <td>B000LQOCH0</td>\n",
       "      <td>ABXLMWJIXXAIN</td>\n",
       "      <td>Natalia Corres \"Natalia Corres\"</td>\n",
       "      <td>1</td>\n",
       "      <td>1</td>\n",
       "      <td>1</td>\n",
       "      <td>1219017600</td>\n",
       "      <td>\"Delight\" says it all</td>\n",
       "      <td>This is a confection that has been around a fe...</td>\n",
       "    </tr>\n",
       "    <tr>\n",
       "      <th>3</th>\n",
       "      <td>4</td>\n",
       "      <td>B000UA0QIQ</td>\n",
       "      <td>A395BORC6FGVXV</td>\n",
       "      <td>Karl</td>\n",
       "      <td>3</td>\n",
       "      <td>3</td>\n",
       "      <td>0</td>\n",
       "      <td>1307923200</td>\n",
       "      <td>Cough Medicine</td>\n",
       "      <td>If you are looking for the secret ingredient i...</td>\n",
       "    </tr>\n",
       "    <tr>\n",
       "      <th>4</th>\n",
       "      <td>5</td>\n",
       "      <td>B006K2ZZ7K</td>\n",
       "      <td>A1UQRSCLF8GW1T</td>\n",
       "      <td>Michael D. Bigham \"M. Wassir\"</td>\n",
       "      <td>0</td>\n",
       "      <td>0</td>\n",
       "      <td>1</td>\n",
       "      <td>1350777600</td>\n",
       "      <td>Great taffy</td>\n",
       "      <td>Great taffy at a great price.  There was a wid...</td>\n",
       "    </tr>\n",
       "  </tbody>\n",
       "</table>\n",
       "</div>"
      ],
      "text/plain": [
       "   Id   ProductId          UserId                      ProfileName  \\\n",
       "0   1  B001E4KFG0  A3SGXH7AUHU8GW                       delmartian   \n",
       "1   2  B00813GRG4  A1D87F6ZCVE5NK                           dll pa   \n",
       "2   3  B000LQOCH0   ABXLMWJIXXAIN  Natalia Corres \"Natalia Corres\"   \n",
       "3   4  B000UA0QIQ  A395BORC6FGVXV                             Karl   \n",
       "4   5  B006K2ZZ7K  A1UQRSCLF8GW1T    Michael D. Bigham \"M. Wassir\"   \n",
       "\n",
       "   HelpfulnessNumerator  HelpfulnessDenominator  Score        Time  \\\n",
       "0                     1                       1      1  1303862400   \n",
       "1                     0                       0      0  1346976000   \n",
       "2                     1                       1      1  1219017600   \n",
       "3                     3                       3      0  1307923200   \n",
       "4                     0                       0      1  1350777600   \n",
       "\n",
       "                 Summary                                               Text  \n",
       "0  Good Quality Dog Food  I have bought several of the Vitality canned d...  \n",
       "1      Not as Advertised  Product arrived labeled as Jumbo Salted Peanut...  \n",
       "2  \"Delight\" says it all  This is a confection that has been around a fe...  \n",
       "3         Cough Medicine  If you are looking for the secret ingredient i...  \n",
       "4            Great taffy  Great taffy at a great price.  There was a wid...  "
      ]
     },
     "execution_count": 3,
     "metadata": {},
     "output_type": "execute_result"
    }
   ],
   "source": [
    "print(filtered_data.shape) \n",
    "filtered_data.head()"
   ]
  },
  {
   "cell_type": "markdown",
   "metadata": {},
   "source": [
    "#### Data Cleaning"
   ]
  },
  {
   "cell_type": "code",
   "execution_count": 4,
   "metadata": {},
   "outputs": [
    {
     "data": {
      "text/plain": [
       "(364173, 10)"
      ]
     },
     "execution_count": 4,
     "metadata": {},
     "output_type": "execute_result"
    }
   ],
   "source": [
    "#Sorting data according to ProductId in ascending order\n",
    "sorted_data=filtered_data.sort_values('ProductId', axis=0, ascending=True, inplace=False, kind='quicksort', na_position='last')\n",
    "#Deduplication of entries\n",
    "final = sorted_data.drop_duplicates(subset = {\"UserId\",\"ProfileName\",\"Time\",\"Text\"}, keep='first', inplace=False)\n",
    "final.shape"
   ]
  },
  {
   "cell_type": "code",
   "execution_count": 5,
   "metadata": {},
   "outputs": [],
   "source": [
    "### only  taking those data where HelpfulnessNumerator is less than HelpfulnessDenominator\n",
    "final=final[final.HelpfulnessNumerator<=final.HelpfulnessDenominator]"
   ]
  },
  {
   "cell_type": "markdown",
   "metadata": {},
   "source": [
    "#### Data Preprocessing : Stemming, stop-word removal and Lemmatization."
   ]
  },
  {
   "cell_type": "code",
   "execution_count": 6,
   "metadata": {},
   "outputs": [
    {
     "name": "stdout",
     "output_type": "stream",
     "text": [
      "6\n",
      "I set aside at least an hour each day to read to my son (3 y/o). At this point, I consider myself a connoisseur of children's books and this is one of the best. Santa Clause put this under the tree. Since then, we've read it perpetually and he loves it.<br /><br />First, this book taught him the months of the year.<br /><br />Second, it's a pleasure to read. Well suited to 1.5 y/o old to 4+.<br /><br />Very few children's books are worth owning. Most should be borrowed from the library. This book, however, deserves a permanent spot on your shelf. Sendak's best.\n"
     ]
    }
   ],
   "source": [
    "# find sentences containing HTML tags\n",
    "import re\n",
    "i=0;\n",
    "for sent in final['Text'].values:\n",
    "    if (len(re.findall('<.*?>', sent))):\n",
    "        print(i)\n",
    "        print(sent)\n",
    "        break;\n",
    "    i += 1;    "
   ]
  },
  {
   "cell_type": "code",
   "execution_count": 7,
   "metadata": {},
   "outputs": [
    {
     "name": "stdout",
     "output_type": "stream",
     "text": [
      "{'what', 'on', 'themselves', 'below', 'o', 'does', 'or', 'who', 'of', 'it', 'from', 'at', \"mustn't\", 'wouldn', 'be', 'myself', 't', 'their', 'such', 'while', 'itself', 'this', 'was', 'if', \"couldn't\", 'how', \"you'd\", 'most', 'yourself', 'she', 'has', 'the', 'hers', 'to', 'these', 'before', \"hasn't\", 'we', 'your', 'haven', 'above', 'shan', 'do', 'down', 'couldn', 'in', 'why', 'again', 'about', 'been', 'a', 'don', 'over', 'when', 'my', \"needn't\", 'theirs', 'won', 's', 'each', 'yourselves', 'isn', \"haven't\", 'have', 'ma', 'those', 'few', \"wasn't\", 'mustn', 'being', 'between', 'its', 'm', 'ain', 'as', 'wasn', 'both', \"she's\", 'any', 'further', 'didn', 'than', \"should've\", 'you', 'which', 'should', \"mightn't\", 'through', 'doesn', 'with', 'that', 'did', 'against', 'more', 'ours', 'am', 'out', 'herself', \"hadn't\", 'our', 'yours', 'up', 'needn', \"shan't\", 'during', 'd', 'hasn', 'very', \"you're\", 'same', 'just', 'he', 'other', 'there', 'not', 'an', \"it's\", \"aren't\", 'into', 'is', 'shouldn', 'y', 'too', 'so', 'ourselves', 'only', 'll', \"doesn't\", 'but', 'me', 'here', 'hadn', \"wouldn't\", 'they', 'will', 'are', 'weren', \"didn't\", 'where', 'all', \"weren't\", 'having', 'were', 'then', \"you've\", 'now', 'them', 've', 'own', 'his', 'nor', \"don't\", 'mightn', 'doing', 'after', 're', 'some', 'himself', 'had', 'until', \"isn't\", 'him', 'her', 'no', \"that'll\", 'off', \"you'll\", 'i', 'and', 'once', 'aren', \"won't\", 'whom', \"shouldn't\", 'by', 'can', 'for', 'under', 'because'}\n",
      "************************************\n",
      "tasti\n"
     ]
    }
   ],
   "source": [
    "import re\n",
    "import string\n",
    "from nltk.corpus import stopwords\n",
    "from nltk.stem import PorterStemmer\n",
    "from nltk.stem.wordnet import WordNetLemmatizer\n",
    "\n",
    "stop = set(stopwords.words('english')) #set of stopwords\n",
    "sno = nltk.stem.SnowballStemmer('english') #initialising the snowball stemmer\n",
    "\n",
    "def cleanhtml(sentence): #function to clean the word of any html-tags\n",
    "    cleanr = re.compile('<.*?>')\n",
    "    cleantext = re.sub(cleanr, ' ', sentence)\n",
    "    return cleantext\n",
    "def cleanpunc(sentence): #function to clean the word of any punctuation or special characters\n",
    "    cleaned = re.sub(r'[?|!|\\'|\"|#]',r'',sentence)\n",
    "    cleaned = re.sub(r'[.|,|)|(|\\|/]',r' ',cleaned)\n",
    "    return  cleaned\n",
    "print(stop)\n",
    "print('************************************')\n",
    "print(sno.stem('tasty'))"
   ]
  },
  {
   "cell_type": "code",
   "execution_count": 8,
   "metadata": {},
   "outputs": [],
   "source": [
    "#Code for implementing step-by-step the checks mentioned in the pre-processing phase\n",
    "# this code takes a while to run as it needs to run on 500k sentences.\n",
    "i=0\n",
    "str1=' '\n",
    "final_string=[]\n",
    "all_positive_words=[] # store words from +ve reviews here\n",
    "all_negative_words=[] # store words from -ve reviews here.\n",
    "s=''\n",
    "for sent in final['Text'].values:\n",
    "    filtered_sentence=[]\n",
    "    #print(sent);\n",
    "    sent=cleanhtml(sent) # remove HTMl tags\n",
    "    for w in sent.split():\n",
    "        for cleaned_words in cleanpunc(w).split():\n",
    "            if((cleaned_words.isalpha()) & (len(cleaned_words)>2)):    \n",
    "                if(cleaned_words.lower() not in stop):\n",
    "                    s=(sno.stem(cleaned_words.lower())).encode('utf8')\n",
    "                    filtered_sentence.append(s)\n",
    "                    if (final['Score'].values)[i] == 1: \n",
    "                        all_positive_words.append(s) #list of all words used to describe positive reviews\n",
    "                    if(final['Score'].values)[i] == 0:\n",
    "                        all_negative_words.append(s) #list of all words used to describe negative reviews reviews\n",
    "                else:\n",
    "                    continue\n",
    "            else:\n",
    "                continue \n",
    "    #print(filtered_sentence)\n",
    "    str1 = b\" \".join(filtered_sentence) #final string of cleaned words\n",
    "    #print(\"***********************************************************************\")\n",
    "    \n",
    "    final_string.append(str1)\n",
    "    i+=1"
   ]
  },
  {
   "cell_type": "code",
   "execution_count": 9,
   "metadata": {},
   "outputs": [],
   "source": [
    "final['CleanedText']=final_string #adding a column of CleanedText which displays the data after pre-processing of the review \n"
   ]
  },
  {
   "cell_type": "code",
   "execution_count": 10,
   "metadata": {},
   "outputs": [],
   "source": [
    "# store final table into an SQlLite table for future.\n",
    "conn = sqlite3.connect('final.sqlite')\n",
    "c=conn.cursor()\n",
    "conn.text_factory = str\n",
    "final.to_sql('Reviews', conn, schema=None, if_exists='replace', index=True, index_label=None, chunksize=None, dtype=None)"
   ]
  },
  {
   "cell_type": "code",
   "execution_count": 11,
   "metadata": {},
   "outputs": [],
   "source": [
    "con = sqlite3.connect(\"final.sqlite\")\n",
    "cleaned_data = pd.read_sql_query(\"select * from Reviews\", con)"
   ]
  },
  {
   "cell_type": "code",
   "execution_count": 12,
   "metadata": {},
   "outputs": [
    {
     "name": "stdout",
     "output_type": "stream",
     "text": [
      "(364171, 12)\n"
     ]
    },
    {
     "data": {
      "text/html": [
       "<div>\n",
       "<style scoped>\n",
       "    .dataframe tbody tr th:only-of-type {\n",
       "        vertical-align: middle;\n",
       "    }\n",
       "\n",
       "    .dataframe tbody tr th {\n",
       "        vertical-align: top;\n",
       "    }\n",
       "\n",
       "    .dataframe thead th {\n",
       "        text-align: right;\n",
       "    }\n",
       "</style>\n",
       "<table border=\"1\" class=\"dataframe\">\n",
       "  <thead>\n",
       "    <tr style=\"text-align: right;\">\n",
       "      <th></th>\n",
       "      <th>index</th>\n",
       "      <th>Id</th>\n",
       "      <th>ProductId</th>\n",
       "      <th>UserId</th>\n",
       "      <th>ProfileName</th>\n",
       "      <th>HelpfulnessNumerator</th>\n",
       "      <th>HelpfulnessDenominator</th>\n",
       "      <th>Score</th>\n",
       "      <th>Time</th>\n",
       "      <th>Summary</th>\n",
       "      <th>Text</th>\n",
       "      <th>CleanedText</th>\n",
       "    </tr>\n",
       "  </thead>\n",
       "  <tbody>\n",
       "    <tr>\n",
       "      <th>0</th>\n",
       "      <td>138706</td>\n",
       "      <td>150524</td>\n",
       "      <td>0006641040</td>\n",
       "      <td>ACITT7DI6IDDL</td>\n",
       "      <td>shari zychinski</td>\n",
       "      <td>0</td>\n",
       "      <td>0</td>\n",
       "      <td>1</td>\n",
       "      <td>939340800</td>\n",
       "      <td>EVERY book is educational</td>\n",
       "      <td>this witty little book makes my son laugh at l...</td>\n",
       "      <td>b'witti littl book make son laugh loud recit c...</td>\n",
       "    </tr>\n",
       "    <tr>\n",
       "      <th>1</th>\n",
       "      <td>138688</td>\n",
       "      <td>150506</td>\n",
       "      <td>0006641040</td>\n",
       "      <td>A2IW4PEEKO2R0U</td>\n",
       "      <td>Tracy</td>\n",
       "      <td>1</td>\n",
       "      <td>1</td>\n",
       "      <td>1</td>\n",
       "      <td>1194739200</td>\n",
       "      <td>Love the book, miss the hard cover version</td>\n",
       "      <td>I grew up reading these Sendak books, and watc...</td>\n",
       "      <td>b'grew read sendak book watch realli rosi movi...</td>\n",
       "    </tr>\n",
       "    <tr>\n",
       "      <th>2</th>\n",
       "      <td>138689</td>\n",
       "      <td>150507</td>\n",
       "      <td>0006641040</td>\n",
       "      <td>A1S4A3IQ2MU7V4</td>\n",
       "      <td>sally sue \"sally sue\"</td>\n",
       "      <td>1</td>\n",
       "      <td>1</td>\n",
       "      <td>1</td>\n",
       "      <td>1191456000</td>\n",
       "      <td>chicken soup with rice months</td>\n",
       "      <td>This is a fun way for children to learn their ...</td>\n",
       "      <td>b'fun way children learn month year learn poem...</td>\n",
       "    </tr>\n",
       "    <tr>\n",
       "      <th>3</th>\n",
       "      <td>138690</td>\n",
       "      <td>150508</td>\n",
       "      <td>0006641040</td>\n",
       "      <td>AZGXZ2UUK6X</td>\n",
       "      <td>Catherine Hallberg \"(Kate)\"</td>\n",
       "      <td>1</td>\n",
       "      <td>1</td>\n",
       "      <td>1</td>\n",
       "      <td>1076025600</td>\n",
       "      <td>a good swingy rhythm for reading aloud</td>\n",
       "      <td>This is a great little book to read aloud- it ...</td>\n",
       "      <td>b'great littl book read nice rhythm well good ...</td>\n",
       "    </tr>\n",
       "    <tr>\n",
       "      <th>4</th>\n",
       "      <td>138691</td>\n",
       "      <td>150509</td>\n",
       "      <td>0006641040</td>\n",
       "      <td>A3CMRKGE0P909G</td>\n",
       "      <td>Teresa</td>\n",
       "      <td>3</td>\n",
       "      <td>4</td>\n",
       "      <td>1</td>\n",
       "      <td>1018396800</td>\n",
       "      <td>A great way to learn the months</td>\n",
       "      <td>This is a book of poetry about the months of t...</td>\n",
       "      <td>b'book poetri month year goe month cute littl ...</td>\n",
       "    </tr>\n",
       "  </tbody>\n",
       "</table>\n",
       "</div>"
      ],
      "text/plain": [
       "    index      Id   ProductId          UserId                  ProfileName  \\\n",
       "0  138706  150524  0006641040   ACITT7DI6IDDL              shari zychinski   \n",
       "1  138688  150506  0006641040  A2IW4PEEKO2R0U                        Tracy   \n",
       "2  138689  150507  0006641040  A1S4A3IQ2MU7V4        sally sue \"sally sue\"   \n",
       "3  138690  150508  0006641040     AZGXZ2UUK6X  Catherine Hallberg \"(Kate)\"   \n",
       "4  138691  150509  0006641040  A3CMRKGE0P909G                       Teresa   \n",
       "\n",
       "   HelpfulnessNumerator  HelpfulnessDenominator  Score        Time  \\\n",
       "0                     0                       0      1   939340800   \n",
       "1                     1                       1      1  1194739200   \n",
       "2                     1                       1      1  1191456000   \n",
       "3                     1                       1      1  1076025600   \n",
       "4                     3                       4      1  1018396800   \n",
       "\n",
       "                                      Summary  \\\n",
       "0                   EVERY book is educational   \n",
       "1  Love the book, miss the hard cover version   \n",
       "2               chicken soup with rice months   \n",
       "3      a good swingy rhythm for reading aloud   \n",
       "4             A great way to learn the months   \n",
       "\n",
       "                                                Text  \\\n",
       "0  this witty little book makes my son laugh at l...   \n",
       "1  I grew up reading these Sendak books, and watc...   \n",
       "2  This is a fun way for children to learn their ...   \n",
       "3  This is a great little book to read aloud- it ...   \n",
       "4  This is a book of poetry about the months of t...   \n",
       "\n",
       "                                         CleanedText  \n",
       "0  b'witti littl book make son laugh loud recit c...  \n",
       "1  b'grew read sendak book watch realli rosi movi...  \n",
       "2  b'fun way children learn month year learn poem...  \n",
       "3  b'great littl book read nice rhythm well good ...  \n",
       "4  b'book poetri month year goe month cute littl ...  "
      ]
     },
     "execution_count": 12,
     "metadata": {},
     "output_type": "execute_result"
    }
   ],
   "source": [
    "print(cleaned_data.shape)\n",
    "cleaned_data.head()"
   ]
  },
  {
   "cell_type": "markdown",
   "metadata": {},
   "source": [
    "#### Random sample\n"
   ]
  },
  {
   "cell_type": "code",
   "execution_count": 13,
   "metadata": {},
   "outputs": [
    {
     "data": {
      "text/plain": [
       "(100000, 11)"
      ]
     },
     "execution_count": 13,
     "metadata": {},
     "output_type": "execute_result"
    }
   ],
   "source": [
    "# To randomly sample 100k points from both class\n",
    "random_sample_data = final.sample(n=100000) \n",
    "random_sample_data.shape"
   ]
  },
  {
   "cell_type": "markdown",
   "metadata": {},
   "source": [
    "#### Splitting data into test and train"
   ]
  },
  {
   "cell_type": "code",
   "execution_count": 14,
   "metadata": {},
   "outputs": [],
   "source": [
    "# Sort data based on time\n",
    "final_sorted_time=random_sample_data.sort_values('Time',ascending=True,axis=0)"
   ]
  },
  {
   "cell_type": "code",
   "execution_count": 15,
   "metadata": {},
   "outputs": [
    {
     "data": {
      "text/html": [
       "<div>\n",
       "<style scoped>\n",
       "    .dataframe tbody tr th:only-of-type {\n",
       "        vertical-align: middle;\n",
       "    }\n",
       "\n",
       "    .dataframe tbody tr th {\n",
       "        vertical-align: top;\n",
       "    }\n",
       "\n",
       "    .dataframe thead th {\n",
       "        text-align: right;\n",
       "    }\n",
       "</style>\n",
       "<table border=\"1\" class=\"dataframe\">\n",
       "  <thead>\n",
       "    <tr style=\"text-align: right;\">\n",
       "      <th></th>\n",
       "      <th>Id</th>\n",
       "      <th>ProductId</th>\n",
       "      <th>UserId</th>\n",
       "      <th>ProfileName</th>\n",
       "      <th>HelpfulnessNumerator</th>\n",
       "      <th>HelpfulnessDenominator</th>\n",
       "      <th>Score</th>\n",
       "      <th>Time</th>\n",
       "      <th>Summary</th>\n",
       "      <th>Text</th>\n",
       "      <th>CleanedText</th>\n",
       "    </tr>\n",
       "  </thead>\n",
       "  <tbody>\n",
       "    <tr>\n",
       "      <th>346116</th>\n",
       "      <td>374422</td>\n",
       "      <td>B00004CI84</td>\n",
       "      <td>A1048CYU0OV4O8</td>\n",
       "      <td>Judy L. Eans</td>\n",
       "      <td>2</td>\n",
       "      <td>2</td>\n",
       "      <td>1</td>\n",
       "      <td>947376000</td>\n",
       "      <td>GREAT</td>\n",
       "      <td>THIS IS ONE MOVIE THAT SHOULD BE IN YOUR MOVIE...</td>\n",
       "      <td>b'one movi movi collect fill comedi action wha...</td>\n",
       "    </tr>\n",
       "    <tr>\n",
       "      <th>346054</th>\n",
       "      <td>374358</td>\n",
       "      <td>B00004CI84</td>\n",
       "      <td>A1HWMNSQF14MP8</td>\n",
       "      <td>will@socialaw.com</td>\n",
       "      <td>1</td>\n",
       "      <td>2</td>\n",
       "      <td>1</td>\n",
       "      <td>978134400</td>\n",
       "      <td>A Afterlife Success</td>\n",
       "      <td>Many movies, have dealt with the figure of dea...</td>\n",
       "      <td>b'mani movi dealt figur death dead good angel ...</td>\n",
       "    </tr>\n",
       "    <tr>\n",
       "      <th>138682</th>\n",
       "      <td>150500</td>\n",
       "      <td>0006641040</td>\n",
       "      <td>A1IJKK6Q1GTEAY</td>\n",
       "      <td>A Customer</td>\n",
       "      <td>2</td>\n",
       "      <td>2</td>\n",
       "      <td>1</td>\n",
       "      <td>1009324800</td>\n",
       "      <td>It Was a favorite!</td>\n",
       "      <td>This was a favorite book of mine when I was a ...</td>\n",
       "      <td>b'favorit book mine littl girl would read time...</td>\n",
       "    </tr>\n",
       "  </tbody>\n",
       "</table>\n",
       "</div>"
      ],
      "text/plain": [
       "            Id   ProductId          UserId        ProfileName  \\\n",
       "346116  374422  B00004CI84  A1048CYU0OV4O8       Judy L. Eans   \n",
       "346054  374358  B00004CI84  A1HWMNSQF14MP8  will@socialaw.com   \n",
       "138682  150500  0006641040  A1IJKK6Q1GTEAY         A Customer   \n",
       "\n",
       "        HelpfulnessNumerator  HelpfulnessDenominator  Score        Time  \\\n",
       "346116                     2                       2      1   947376000   \n",
       "346054                     1                       2      1   978134400   \n",
       "138682                     2                       2      1  1009324800   \n",
       "\n",
       "                    Summary  \\\n",
       "346116                GREAT   \n",
       "346054  A Afterlife Success   \n",
       "138682   It Was a favorite!   \n",
       "\n",
       "                                                     Text  \\\n",
       "346116  THIS IS ONE MOVIE THAT SHOULD BE IN YOUR MOVIE...   \n",
       "346054  Many movies, have dealt with the figure of dea...   \n",
       "138682  This was a favorite book of mine when I was a ...   \n",
       "\n",
       "                                              CleanedText  \n",
       "346116  b'one movi movi collect fill comedi action wha...  \n",
       "346054  b'mani movi dealt figur death dead good angel ...  \n",
       "138682  b'favorit book mine littl girl would read time...  "
      ]
     },
     "execution_count": 15,
     "metadata": {},
     "output_type": "execute_result"
    }
   ],
   "source": [
    "final_sorted_time.head(3)"
   ]
  },
  {
   "cell_type": "code",
   "execution_count": 45,
   "metadata": {},
   "outputs": [],
   "source": [
    " #data splitting\n",
    "Y_Train=final_sorted_time['Score'][0:70000]\n",
    "Y_train=final_sorted_time['Score'][0:49000]\n",
    "Y_cv=final_sorted_time['Score'][49000:70000]\n",
    "Y_test=final_sorted_time['Score'][70000:100000]"
   ]
  },
  {
   "cell_type": "code",
   "execution_count": 46,
   "metadata": {},
   "outputs": [],
   "source": [
    "Train_data=final_sorted_time['CleanedText'][0:70000]\n",
    "X_train=final_sorted_time['CleanedText'][0:49000]\n",
    "cv_data=final_sorted_time['CleanedText'][49000:70000]\n",
    "X_test=final_sorted_time['CleanedText'][70000:100000]"
   ]
  },
  {
   "cell_type": "markdown",
   "metadata": {},
   "source": [
    "#### Featurization"
   ]
  },
  {
   "cell_type": "markdown",
   "metadata": {},
   "source": [
    "#### Bag of Words"
   ]
  },
  {
   "cell_type": "code",
   "execution_count": 18,
   "metadata": {},
   "outputs": [
    {
     "name": "stdout",
     "output_type": "stream",
     "text": [
      "some feature names  ['aa', 'aaa', 'aaaaaahhh', 'aaaaaahhhh', 'aaaaah', 'aaaaahhhhhhhhhhhhhhhh', 'aaah', 'aaahhhhhh', 'aachen', 'aad']\n",
      "==================================================\n",
      "the type of count vectorizer  <class 'scipy.sparse.csr.csr_matrix'>\n",
      "the shape of out text BOW vectorizer  (49000, 26963)\n",
      "the number of unique words  26963\n"
     ]
    }
   ],
   "source": [
    "#BoW\n",
    "count_vect = CountVectorizer() #in scikit-learn\n",
    "count_vect.fit(X_train)\n",
    "print(\"some feature names \", count_vect.get_feature_names()[:10])\n",
    "print('='*50)\n",
    "\n",
    "final_train_counts = count_vect.transform(X_train)\n",
    "final_test_counts = count_vect.transform(X_test)\n",
    "print(\"the type of count vectorizer \",type(final_train_counts))\n",
    "print(\"the shape of out text BOW vectorizer \",final_train_counts.get_shape())\n",
    "print(\"the number of unique words \", final_train_counts.get_shape()[1])"
   ]
  },
  {
   "cell_type": "code",
   "execution_count": 19,
   "metadata": {},
   "outputs": [
    {
     "name": "stdout",
     "output_type": "stream",
     "text": [
      "the type of count vectorizer  <class 'scipy.sparse.csr.csr_matrix'>\n",
      "the shape of out text BOW vectorizer  (49000, 5000)\n",
      "the number of unique words including both unigrams and bigrams  5000\n"
     ]
    }
   ],
   "source": [
    "#bi-gram, tri-gram and n-gram\n",
    "\n",
    "#removing stop words like \"not\" should be avoided before building n-grams\n",
    "# count_vect = CountVectorizer(ngram_range=(1,2))\n",
    "# please do read the CountVectorizer documentation http://scikit-learn.org/stable/modules/generated/sklearn.feature_extraction.text.CountVectorizer.html\n",
    "\n",
    "# you can choose these numebrs min_df=10, max_features=5000, of your choice\n",
    "count_vect = CountVectorizer(ngram_range=(1,1), min_df=10, max_features=5000)\n",
    "final_train_bigram_counts = count_vect.fit_transform(X_train)\n",
    "final_test_bigram_counts = count_vect.transform(X_test)\n",
    "print(\"the type of count vectorizer \",type(final_train_bigram_counts))\n",
    "print(\"the shape of out text BOW vectorizer \",final_train_bigram_counts.get_shape())\n",
    "print(\"the number of unique words including both unigrams and bigrams \", final_train_bigram_counts.get_shape()[1])"
   ]
  },
  {
   "cell_type": "markdown",
   "metadata": {},
   "source": [
    "#### TF-IDF"
   ]
  },
  {
   "cell_type": "code",
   "execution_count": 20,
   "metadata": {},
   "outputs": [],
   "source": [
    "tf_idf_vect  = TfidfVectorizer(ngram_range=(1,1),min_df=10)\n",
    "tf_idf_vect.fit(X_train)\n",
    "final_train_tf_idf = tf_idf_vect.transform(X_train)\n",
    "final_test_tf_idf = tf_idf_vect.transform(X_test)\n",
    "tf_cv  = tf_idf_vect.transform(cv_data)"
   ]
  },
  {
   "cell_type": "markdown",
   "metadata": {},
   "source": [
    "#### Word2Vec"
   ]
  },
  {
   "cell_type": "code",
   "execution_count": 21,
   "metadata": {},
   "outputs": [],
   "source": [
    "# Train your own Word2Vec model using your train text corpus\n",
    "list_of_sent_train = []\n",
    "for i in X_train:\n",
    "    sent = []\n",
    "    for word in i.split():\n",
    "        sent.append(word.decode('utf-8'))\n",
    "    list_of_sent_train.append(sent)\n"
   ]
  },
  {
   "cell_type": "code",
   "execution_count": 22,
   "metadata": {},
   "outputs": [],
   "source": [
    "list_of_sent_cv = []\n",
    "for i in cv_data:\n",
    "    sent = []\n",
    "    for word in i.split():\n",
    "        sent.append(word.decode('utf-8'))\n",
    "    list_of_sent_cv.append(sent)"
   ]
  },
  {
   "cell_type": "code",
   "execution_count": 23,
   "metadata": {},
   "outputs": [],
   "source": [
    "# List of sentence in X_test text\n",
    "list_of_sent_test = []\n",
    "for i in X_test:\n",
    "    sent = []\n",
    "    for word in i.split():\n",
    "        sent.append(word.decode('utf-8'))\n",
    "    list_of_sent_test.append(sent)\n",
    "\n"
   ]
  },
  {
   "cell_type": "code",
   "execution_count": 24,
   "metadata": {},
   "outputs": [],
   "source": [
    "from gensim.models import Word2Vec\n",
    "w2v_model = Word2Vec(list_of_sent_train,min_count = 5,size = 50,workers = 4)"
   ]
  },
  {
   "cell_type": "code",
   "execution_count": 25,
   "metadata": {},
   "outputs": [
    {
     "name": "stdout",
     "output_type": "stream",
     "text": [
      "number of words that occured minimum 5 times  9326\n",
      "sample words  ['one', 'movi', 'collect', 'fill', 'comedi', 'action', 'whatev', 'els', 'want', 'call', 'mani', 'dealt', 'figur', 'death', 'dead', 'good', 'angel', 'wonder', 'life', 'turn', 'joe', 'black', 'howev', 'tim', 'burton', 'present', 'world', 'look', 'beetlejuic', 'first', 'moment', 'barbara', 'adam', 'maitland', 'town', 'die', 'possibl', 'way', 'return', 'thier', 'hous', 'find', 'selv', 'confin', 'leav', 'send', 'strang', 'desert', 'popul', 'eventu']\n"
     ]
    }
   ],
   "source": [
    "\n",
    "w2v_words = list(w2v_model.wv.vocab)\n",
    "print(\"number of words that occured minimum 5 times \",len(w2v_words))\n",
    "print(\"sample words \", w2v_words[0:50])"
   ]
  },
  {
   "cell_type": "markdown",
   "metadata": {},
   "source": [
    "#### AVG Word2Vec"
   ]
  },
  {
   "cell_type": "code",
   "execution_count": 26,
   "metadata": {},
   "outputs": [
    {
     "name": "stdout",
     "output_type": "stream",
     "text": [
      "49000\n"
     ]
    }
   ],
   "source": [
    "sent_vectors_train = []\n",
    "for sent in list_of_sent_train:\n",
    "    sent_vec = np.zeros(50)\n",
    "    cnt_word = 0\n",
    "    for word in sent:\n",
    "        try:\n",
    "            vec = w2v_model.wv[word]\n",
    "            sent_vec += vec\n",
    "            cnt_word += 1\n",
    "        except:\n",
    "            pass\n",
    "    if cnt_word!=0:\n",
    "        sent_vec /= cnt_word\n",
    "    \n",
    "    sent_vectors_train.append(sent_vec)\n",
    "print(len(sent_vectors_train))"
   ]
  },
  {
   "cell_type": "code",
   "execution_count": 27,
   "metadata": {},
   "outputs": [
    {
     "name": "stdout",
     "output_type": "stream",
     "text": [
      "21000\n"
     ]
    }
   ],
   "source": [
    "sent_vectors_cv = []\n",
    "for sent in list_of_sent_cv:\n",
    "    sent_vec = np.zeros(50)\n",
    "    cnt_word = 0\n",
    "    for word in sent:\n",
    "        try:\n",
    "            vec = w2v_model.wv[word]\n",
    "            sent_vec += vec\n",
    "            cnt_word += 1\n",
    "        except:\n",
    "            pass\n",
    "    if cnt_word!=0:\n",
    "        sent_vec /= cnt_word\n",
    "    sent_vectors_cv.append(sent_vec)\n",
    "print(len(sent_vectors_cv))"
   ]
  },
  {
   "cell_type": "code",
   "execution_count": 28,
   "metadata": {},
   "outputs": [
    {
     "name": "stdout",
     "output_type": "stream",
     "text": [
      "30000\n"
     ]
    }
   ],
   "source": [
    "sent_vectors_test = []\n",
    "for sent in list_of_sent_test:\n",
    "    sent_vec = np.zeros(50)\n",
    "    cnt_word = 0\n",
    "    for word in sent:\n",
    "        try:\n",
    "            vec = w2v_model.wv[word]\n",
    "            sent_vec += vec\n",
    "            cnt_word += 1\n",
    "        except:\n",
    "            pass\n",
    "    if cnt_word!=0:\n",
    "        sent_vec /= cnt_word\n",
    "    sent_vectors_test.append(sent_vec)\n",
    "print(len(sent_vectors_test))"
   ]
  },
  {
   "cell_type": "markdown",
   "metadata": {},
   "source": [
    "#### TFIDF weighted W2V"
   ]
  },
  {
   "cell_type": "code",
   "execution_count": 29,
   "metadata": {},
   "outputs": [],
   "source": [
    "\n",
    "tf_idf_feat = tf_idf_vect.get_feature_names()\n",
    "tfidf_sent_vec_train = []\n",
    "row = 0\n",
    "for sent in list_of_sent_train:\n",
    "    sent_vec = np.zeros(50)\n",
    "    weight_sum = 0\n",
    "    for word in sent:\n",
    "        try:\n",
    "            vec = w2v_model.wv[word]\n",
    "            tfidf = tf_train[row,tf_idf_feat.index(word)]\n",
    "            sent_vec += (vec*tfidf)\n",
    "            weight_sum += tfidf\n",
    "        except:\n",
    "            pass\n",
    "    if weight_sum !=0:\n",
    "        sent_vec/= weight_sum\n",
    "    \n",
    "    tfidf_sent_vec_train.append(sent_vec)\n",
    "    row += 1"
   ]
  },
  {
   "cell_type": "code",
   "execution_count": 32,
   "metadata": {},
   "outputs": [],
   "source": [
    "\n",
    "tf_idf_feat = tf_idf_vect.get_feature_names()\n",
    "tfidf_sent_vec_cv = []\n",
    "row = 0\n",
    "for sent in list_of_sent_cv:\n",
    "    sent_vec = np.zeros(50)\n",
    "    weight_sum = 0\n",
    "    for word in sent:\n",
    "        try:\n",
    "            vec = w2v_model.wv[word]\n",
    "            tfidf = tf_cv[row,tf_idf_feat.index(word)]\n",
    "            sent_vec += (vec*tfidf)\n",
    "            weight_sum += tfidf\n",
    "        except:\n",
    "            pass\n",
    "    if weight_sum !=0:\n",
    "        sent_vec/= weight_sum\n",
    "    tfidf_sent_vec_cv.append(sent_vec)\n",
    "    row += 1"
   ]
  },
  {
   "cell_type": "code",
   "execution_count": 33,
   "metadata": {},
   "outputs": [],
   "source": [
    "tf_idf_feat = tf_idf_vect.get_feature_names()\n",
    "tfidf_sent_vec_test = []\n",
    "row = 0\n",
    "for sent in list_of_sent_test:\n",
    "    sent_vec = np.zeros(50)\n",
    "    weight_sum = 0\n",
    "    for word in sent:\n",
    "        try:\n",
    "            vec = w2v_model.wv[word]\n",
    "            tfidf = tf_test[row,tf_idf_feat.index(word)]\n",
    "            sent_vec += (vec*tfidf)\n",
    "            weight_sum += tfidf\n",
    "        except:\n",
    "            pass\n",
    "    if weight_sum !=0:\n",
    "        sent_vec/= weight_sum\n",
    "    tfidf_sent_vec_test.append(sent_vec)\n",
    "    row += 1"
   ]
  },
  {
   "cell_type": "code",
   "execution_count": 34,
   "metadata": {},
   "outputs": [
    {
     "data": {
      "text/plain": [
       "(49000, 50)"
      ]
     },
     "execution_count": 34,
     "metadata": {},
     "output_type": "execute_result"
    }
   ],
   "source": [
    "tfw2v_train= np.array(tfidf_sent_vec_train)\n",
    "tfw2v_train.shape"
   ]
  },
  {
   "cell_type": "code",
   "execution_count": 35,
   "metadata": {},
   "outputs": [],
   "source": [
    "tfw2v_cv= np.array(tfidf_sent_vec_cv)"
   ]
  },
  {
   "cell_type": "code",
   "execution_count": 36,
   "metadata": {},
   "outputs": [
    {
     "data": {
      "text/plain": [
       "(21000, 50)"
      ]
     },
     "execution_count": 36,
     "metadata": {},
     "output_type": "execute_result"
    }
   ],
   "source": [
    "tfw2v_cv.shape"
   ]
  },
  {
   "cell_type": "code",
   "execution_count": 37,
   "metadata": {},
   "outputs": [
    {
     "data": {
      "text/plain": [
       "(30000, 50)"
      ]
     },
     "execution_count": 37,
     "metadata": {},
     "output_type": "execute_result"
    }
   ],
   "source": [
    "tfw2v_test= np.array(tfidf_sent_vec_test)\n",
    "tfw2v_test.shape"
   ]
  },
  {
   "cell_type": "code",
   "execution_count": 38,
   "metadata": {},
   "outputs": [],
   "source": [
    "np.save(\"tfw2v_train\", tfw2v_train)\n",
    "np.save(\"tfw2v_cv\", tfw2v_cv)\n",
    "np.save(\"tfw2v_test\", tfw2v_test)"
   ]
  },
  {
   "cell_type": "code",
   "execution_count": 39,
   "metadata": {},
   "outputs": [],
   "source": [
    "from prettytable import PrettyTable\n",
    "x = PrettyTable([\"Vectorizer\", \"Model\", \"Hyper-parameter\",\"F1 Score\", \"ROC_AUC\"])"
   ]
  },
  {
   "cell_type": "markdown",
   "metadata": {},
   "source": [
    "### Linear SVM "
   ]
  },
  {
   "cell_type": "markdown",
   "metadata": {},
   "source": [
    "#### Linear SVM on BagofWords using SGDClassifier"
   ]
  },
  {
   "cell_type": "code",
   "execution_count": 47,
   "metadata": {},
   "outputs": [
    {
     "data": {
      "text/plain": [
       "CalibratedClassifierCV(base_estimator=SGDClassifier(alpha=0.0001, average=False, class_weight='balanced',\n",
       "       epsilon=0.1, eta0=0.0, fit_intercept=True, l1_ratio=0.15,\n",
       "       learning_rate='optimal', loss='hinge', max_iter=1000, n_iter=None,\n",
       "       n_jobs=1, penalty='l2', power_t=0.5, random_state=0, shuffle=True,\n",
       "       tol=0.001, verbose=0, warm_start=False),\n",
       "            cv=TimeSeriesSplit(max_train_size=None, n_splits=5),\n",
       "            method='sigmoid')"
      ]
     },
     "execution_count": 47,
     "metadata": {},
     "output_type": "execute_result"
    }
   ],
   "source": [
    "# Linear kernel using SGDClassifier\n",
    "from sklearn.linear_model import SGDClassifier\n",
    "from sklearn.calibration import CalibratedClassifierCV\n",
    "from sklearn.metrics import roc_auc_score, auc\n",
    "from sklearn.model_selection import TimeSeriesSplit\n",
    "\n",
    "clf = SGDClassifier(loss='hinge',penalty='l2',max_iter=1000, tol=1e-3, class_weight='balanced',random_state=0)\n",
    "tscv = TimeSeriesSplit(n_splits=5)\n",
    "clf_svm = CalibratedClassifierCV(base_estimator=clf, cv=tscv, method='sigmoid')\n",
    "clf_svm.fit(final_train_bigram_counts, y_train)"
   ]
  },
  {
   "cell_type": "code",
   "execution_count": 48,
   "metadata": {},
   "outputs": [
    {
     "name": "stdout",
     "output_type": "stream",
     "text": [
      "\tPrecision: 0.889\n",
      "\tRecall: 0.984\n",
      "\tF1: 0.934\n",
      "\tROC_AUC: 0.704\n"
     ]
    },
    {
     "data": {
      "text/plain": [
       "<matplotlib.axes._subplots.AxesSubplot at 0x1a995a29b0>"
      ]
     },
     "execution_count": 48,
     "metadata": {},
     "output_type": "execute_result"
    },
    {
     "data": {
      "image/png": "[encoded data removed]",
      "text/plain": [
       "<Figure size 432x288 with 2 Axes>"
      ]
     },
     "metadata": {},
     "output_type": "display_data"
    }
   ],
   "source": [
    "from sklearn.metrics import precision_score, recall_score,f1_score,roc_auc_score\n",
    "from sklearn.calibration import CalibratedClassifierCV, calibration_curve\n",
    "\n",
    "y_pred = clf_svm.predict(final_test_bigram_counts)\n",
    "print(\"\\tPrecision: %1.3f\" % precision_score(Y_test, y_pred))\n",
    "print(\"\\tRecall: %1.3f\" % recall_score(Y_test, y_pred))\n",
    "print(\"\\tF1: %1.3f\" % f1_score(Y_test, y_pred))\n",
    "print(\"\\tROC_AUC: %1.3f\" % roc_auc_score(Y_test, y_pred))\n",
    "df_cm = pd.DataFrame(confusion_matrix(Y_test, y_pred), range(2),range(2))\n",
    "sns.set(font_scale=1.4)#for label size\n",
    "sns.heatmap(df_cm, annot=True,annot_kws={\"size\": 16}, fmt='g')"
   ]
  },
  {
   "cell_type": "markdown",
   "metadata": {},
   "source": [
    "#### Linear SVM on BagofWords using LinearSVC"
   ]
  },
  {
   "cell_type": "code",
   "execution_count": 50,
   "metadata": {},
   "outputs": [],
   "source": [
    "# Linear kernel using LinearSVC\n",
    "from sklearn.svm import SVC, LinearSVC, NuSVC\n",
    "from sklearn.model_selection import GridSearchCV\n",
    "parameters = {'C':[0.1, 1, 10]}\n",
    "tscv = TimeSeriesSplit(n_splits=5)\n",
    "lsvc = LinearSVC(penalty='l2',class_weight='balanced',dual=False)\n",
    "clf_gs = GridSearchCV(lsvc, parameters, cv=tscv,scoring='roc_auc', n_jobs=-1)"
   ]
  },
  {
   "cell_type": "code",
   "execution_count": 51,
   "metadata": {},
   "outputs": [
    {
     "name": "stdout",
     "output_type": "stream",
     "text": [
      "LinearSVC(C=0.1, class_weight='balanced', dual=False, fit_intercept=True,\n",
      "     intercept_scaling=1, loss='squared_hinge', max_iter=1000,\n",
      "     multi_class='ovr', penalty='l2', random_state=None, tol=0.0001,\n",
      "     verbose=0)\n",
      "\tPrecision: 0.957\n",
      "\tRecall: 0.890\n",
      "\tF1: 0.922\n",
      "\tROC_AUC: 0.850\n"
     ]
    },
    {
     "data": {
      "image/png": "[encoded data removed]",
      "text/plain": [
       "<Figure size 432x288 with 2 Axes>"
      ]
     },
     "metadata": {},
     "output_type": "display_data"
    }
   ],
   "source": [
    "clf_gs.fit(final_train_bigram_counts, Y_train)\n",
    "print(clf_gs.best_estimator_)\n",
    "y_pred = clf_gs.best_estimator_.predict(final_test_bigram_counts)\n",
    "print(\"\\tPrecision: %1.3f\" % precision_score(Y_test, y_pred))\n",
    "print(\"\\tRecall: %1.3f\" % recall_score(Y_test, y_pred))\n",
    "print(\"\\tF1: %1.3f\" % f1_score(Y_test, y_pred))\n",
    "print(\"\\tROC_AUC: %1.3f\" % roc_auc_score(Y_test, y_pred))\n",
    "df_cm = pd.DataFrame(confusion_matrix(Y_test, y_pred), range(2),range(2))\n",
    "sns.set(font_scale=1.4)#for label size\n",
    "sns.heatmap(df_cm, annot=True,annot_kws={\"size\": 16}, fmt='g');\n",
    "\n",
    "x.add_row([\"BoW\", \"Linear kernel using LinearSVC\",clf_gs.best_params_, f1_score(Y_test, y_pred), roc_auc_score(Y_test, y_pred)])"
   ]
  },
  {
   "cell_type": "code",
   "execution_count": 52,
   "metadata": {},
   "outputs": [],
   "source": [
    "# Get the features of Bi-Grams BoW\n",
    "feat = count_vect.get_feature_names()"
   ]
  },
  {
   "cell_type": "markdown",
   "metadata": {},
   "source": [
    "#### Top 10 positive and negative features"
   ]
  },
  {
   "cell_type": "code",
   "execution_count": 53,
   "metadata": {},
   "outputs": [
    {
     "name": "stdout",
     "output_type": "stream",
     "text": [
      "\t\t\tNegative\t\t\t\t\tPositive\n",
      "\t-1.1803\tworst          \t\t\t\t1.0781\trecycl         \n",
      "\t-0.9325\tsaucepan       \t\t\t\t0.9804\tfreight        \n",
      "\t-0.8683\tterribl        \t\t\t\t0.9363\tskeptic        \n",
      "\t-0.8602\tperfum         \t\t\t\t0.8405\tnecessarili    \n",
      "\t-0.8374\tglutino        \t\t\t\t0.7993\tnegat          \n",
      "\t-0.8342\tundrink        \t\t\t\t0.7513\tconvinc        \n",
      "\t-0.8113\tmid            \t\t\t\t0.7455\tbeetlejuic     \n",
      "\t-0.7823\tladen          \t\t\t\t0.7442\tdownsid        \n",
      "\t-0.7706\texcus          \t\t\t\t0.7400\tarabica        \n",
      "\t-0.7694\ttasteless      \t\t\t\t0.7343\tprofession     \n"
     ]
    }
   ],
   "source": [
    "# Print the best feature for each of the positive and negative classes\n",
    "\n",
    "n=10\n",
    "coefs = sorted(zip(clf_gs.best_estimator_.coef_[0], feat))\n",
    "top = zip(coefs[:n], coefs[:-(n + 1):-1])\n",
    "print(\"\\t\\t\\tNegative\\t\\t\\t\\t\\tPositive\")\n",
    "for (coef1, feat1), (coef2, feat2) in top:\n",
    "        print(\"\\t%.4f\\t%-15s\\t\\t\\t\\t%.4f\\t%-15s\" % (coef1, feat1, coef2, feat2))"
   ]
  },
  {
   "cell_type": "markdown",
   "metadata": {},
   "source": [
    "#### Linear SVM on Tfidf using SGDClassifier"
   ]
  },
  {
   "cell_type": "code",
   "execution_count": 54,
   "metadata": {},
   "outputs": [
    {
     "data": {
      "text/plain": [
       "CalibratedClassifierCV(base_estimator=SGDClassifier(alpha=0.0001, average=False, class_weight='balanced',\n",
       "       epsilon=0.1, eta0=0.0, fit_intercept=True, l1_ratio=0.15,\n",
       "       learning_rate='optimal', loss='hinge', max_iter=1000, n_iter=None,\n",
       "       n_jobs=1, penalty='l2', power_t=0.5, random_state=0, shuffle=True,\n",
       "       tol=0.001, verbose=0, warm_start=False),\n",
       "            cv=TimeSeriesSplit(max_train_size=None, n_splits=5),\n",
       "            method='sigmoid')"
      ]
     },
     "execution_count": 54,
     "metadata": {},
     "output_type": "execute_result"
    }
   ],
   "source": [
    "# Linear kernel using SGDClassifier\n",
    "\n",
    "clf = SGDClassifier(loss='hinge',penalty='l2',max_iter=1000, tol=1e-3, class_weight='balanced',random_state=0)\n",
    "tscv = TimeSeriesSplit(n_splits=5)\n",
    "clf_svm = CalibratedClassifierCV(base_estimator=clf, cv=tscv, method='sigmoid')\n",
    "clf_svm.fit(final_train_tf_idf, Y_train)"
   ]
  },
  {
   "cell_type": "code",
   "execution_count": 55,
   "metadata": {},
   "outputs": [
    {
     "name": "stdout",
     "output_type": "stream",
     "text": [
      "\tPrecision: 0.917\n",
      "\tRecall: 0.970\n",
      "\tF1: 0.943\n",
      "\tROC_AUC: 0.778\n"
     ]
    },
    {
     "data": {
      "text/plain": [
       "<matplotlib.axes._subplots.AxesSubplot at 0x1a8b2bd7b8>"
      ]
     },
     "execution_count": 55,
     "metadata": {},
     "output_type": "execute_result"
    },
    {
     "data": {
      "image/png": "[encoded data removed]",
      "text/plain": [
       "<Figure size 432x288 with 2 Axes>"
      ]
     },
     "metadata": {},
     "output_type": "display_data"
    }
   ],
   "source": [
    "y_pred = clf_svm.predict(final_test_tf_idf)\n",
    "print(\"\\tPrecision: %1.3f\" % precision_score(Y_test, y_pred))\n",
    "print(\"\\tRecall: %1.3f\" % recall_score(Y_test, y_pred))\n",
    "print(\"\\tF1: %1.3f\" % f1_score(Y_test, y_pred))\n",
    "print(\"\\tROC_AUC: %1.3f\" % roc_auc_score(Y_test, y_pred))\n",
    "df_cm = pd.DataFrame(confusion_matrix(Y_test, y_pred), range(2),range(2))\n",
    "sns.set(font_scale=1.4)#for label size\n",
    "sns.heatmap(df_cm, annot=True,annot_kws={\"size\": 16}, fmt='g')"
   ]
  },
  {
   "cell_type": "markdown",
   "metadata": {},
   "source": [
    "#### Linear SVM on Tfidf using LinearSVC"
   ]
  },
  {
   "cell_type": "code",
   "execution_count": 56,
   "metadata": {},
   "outputs": [],
   "source": [
    "# Linear kernel using LinearSVC\n",
    "from sklearn.svm import SVC, LinearSVC, NuSVC\n",
    "from sklearn.model_selection import GridSearchCV\n",
    "parameters = {'C':[0.1, 1, 10]}\n",
    "tscv = TimeSeriesSplit(n_splits=5)\n",
    "lsvc = LinearSVC(penalty='l2',class_weight='balanced',dual=False)\n",
    "clf_gs = GridSearchCV(lsvc, parameters, cv=tscv,scoring='roc_auc', n_jobs=-1)"
   ]
  },
  {
   "cell_type": "code",
   "execution_count": 57,
   "metadata": {},
   "outputs": [
    {
     "name": "stdout",
     "output_type": "stream",
     "text": [
      "LinearSVC(C=0.1, class_weight='balanced', dual=False, fit_intercept=True,\n",
      "     intercept_scaling=1, loss='squared_hinge', max_iter=1000,\n",
      "     multi_class='ovr', penalty='l2', random_state=None, tol=0.0001,\n",
      "     verbose=0)\n",
      "\tPrecision: 0.970\n",
      "\tRecall: 0.874\n",
      "\tF1: 0.919\n",
      "\tROC_AUC: 0.873\n"
     ]
    },
    {
     "data": {
      "image/png": "[encoded data removed]",
      "text/plain": [
       "<Figure size 432x288 with 2 Axes>"
      ]
     },
     "metadata": {},
     "output_type": "display_data"
    }
   ],
   "source": [
    "clf_gs.fit(final_train_tf_idf, Y_train)\n",
    "print(clf_gs.best_estimator_)\n",
    "y_pred = clf_gs.best_estimator_.predict(final_test_tf_idf)\n",
    "print(\"\\tPrecision: %1.3f\" % precision_score(Y_test, y_pred))\n",
    "print(\"\\tRecall: %1.3f\" % recall_score(Y_test, y_pred))\n",
    "print(\"\\tF1: %1.3f\" % f1_score(Y_test, y_pred))\n",
    "print(\"\\tROC_AUC: %1.3f\" % roc_auc_score(Y_test, y_pred))\n",
    "df_cm = pd.DataFrame(confusion_matrix(Y_test, y_pred), range(2),range(2))\n",
    "sns.set(font_scale=1.4)#for label size\n",
    "sns.heatmap(df_cm, annot=True,annot_kws={\"size\": 16}, fmt='g');\n",
    "\n",
    "x.add_row([\"TFIDF\", \"Linear kernel using LinearSVC\",clf_gs.best_params_, f1_score(Y_test, y_pred), roc_auc_score(Y_test, y_pred)])"
   ]
  },
  {
   "cell_type": "markdown",
   "metadata": {},
   "source": [
    "#### Top 10 positive and negative features"
   ]
  },
  {
   "cell_type": "code",
   "execution_count": 58,
   "metadata": {},
   "outputs": [
    {
     "name": "stdout",
     "output_type": "stream",
     "text": [
      "\t\t\tNegative\t\t\t\t\tPositive\n",
      "\t-2.9926\texposur        \t\t\t\t3.5974\tkid            \n",
      "\t-2.1030\tbeagl          \t\t\t\t2.9951\tbouillon       \n",
      "\t-2.0584\tmaca           \t\t\t\t2.7822\tenchilada      \n",
      "\t-1.6721\tthought        \t\t\t\t2.7251\tpass           \n",
      "\t-1.5921\tbrie           \t\t\t\t2.6102\tsignatur       \n",
      "\t-1.5554\tfoodi          \t\t\t\t2.1681\tgnaw           \n",
      "\t-1.5519\tknow           \t\t\t\t1.9393\tguava          \n",
      "\t-1.5296\tbehavior       \t\t\t\t1.9300\tanytim         \n",
      "\t-1.4848\tluscious       \t\t\t\t1.8013\tjiffi          \n",
      "\t-1.3714\tversatil       \t\t\t\t1.6621\twork           \n"
     ]
    }
   ],
   "source": [
    "# Print the best feature for each of the positive and negative classes\n",
    "\n",
    "n=10\n",
    "coefs = sorted(zip(clf_gs.best_estimator_.coef_[0], feat))\n",
    "top = zip(coefs[:n], coefs[:-(n + 1):-1])\n",
    "print(\"\\t\\t\\tNegative\\t\\t\\t\\t\\tPositive\")\n",
    "for (coef1, feat1), (coef2, feat2) in top:\n",
    "        print(\"\\t%.4f\\t%-15s\\t\\t\\t\\t%.4f\\t%-15s\" % (coef1, feat1, coef2, feat2))"
   ]
  },
  {
   "cell_type": "markdown",
   "metadata": {},
   "source": [
    "#### Linear SVM on Avg. W2V using SGDClassifier"
   ]
  },
  {
   "cell_type": "code",
   "execution_count": 59,
   "metadata": {},
   "outputs": [
    {
     "data": {
      "text/plain": [
       "CalibratedClassifierCV(base_estimator=SGDClassifier(alpha=0.0001, average=False, class_weight='balanced',\n",
       "       epsilon=0.1, eta0=0.0, fit_intercept=True, l1_ratio=0.15,\n",
       "       learning_rate='optimal', loss='hinge', max_iter=1000, n_iter=None,\n",
       "       n_jobs=1, penalty='l2', power_t=0.5, random_state=0, shuffle=True,\n",
       "       tol=0.001, verbose=0, warm_start=False),\n",
       "            cv=TimeSeriesSplit(max_train_size=None, n_splits=5),\n",
       "            method='sigmoid')"
      ]
     },
     "execution_count": 59,
     "metadata": {},
     "output_type": "execute_result"
    }
   ],
   "source": [
    "# Linear kernel using SGDClassifier\n",
    "\n",
    "clf = SGDClassifier(loss='hinge',penalty='l2',max_iter=1000, tol=1e-3, class_weight='balanced',random_state=0)\n",
    "tscv = TimeSeriesSplit(n_splits=5)\n",
    "clf_svm = CalibratedClassifierCV(base_estimator=clf, cv=tscv, method='sigmoid')\n",
    "clf_svm.fit(sent_vectors_train, Y_train)"
   ]
  },
  {
   "cell_type": "code",
   "execution_count": 60,
   "metadata": {},
   "outputs": [
    {
     "name": "stdout",
     "output_type": "stream",
     "text": [
      "\tPrecision: 0.880\n",
      "\tRecall: 0.975\n",
      "\tF1: 0.925\n",
      "\tROC_AUC: 0.674\n"
     ]
    },
    {
     "data": {
      "image/png": "[encoded data removed]",
      "text/plain": [
       "<Figure size 432x288 with 2 Axes>"
      ]
     },
     "metadata": {},
     "output_type": "display_data"
    }
   ],
   "source": [
    "y_pred = clf_svm.predict(sent_vectors_test)\n",
    "print(\"\\tPrecision: %1.3f\" % precision_score(Y_test, y_pred))\n",
    "print(\"\\tRecall: %1.3f\" % recall_score(Y_test, y_pred))\n",
    "print(\"\\tF1: %1.3f\" % f1_score(Y_test, y_pred))\n",
    "print(\"\\tROC_AUC: %1.3f\" % roc_auc_score(Y_test, y_pred))\n",
    "df_cm = pd.DataFrame(confusion_matrix(Y_test, y_pred), range(2),range(2))\n",
    "sns.set(font_scale=1.4)#for label size\n",
    "sns.heatmap(df_cm, annot=True,annot_kws={\"size\": 16}, fmt='g')\n",
    "x.add_row([\"Avg W2V\", \"Linear kernel using SGDClassifier\",clf_svm.predict, f1_score(Y_test, y_pred), roc_auc_score(Y_test, y_pred)])"
   ]
  },
  {
   "cell_type": "markdown",
   "metadata": {},
   "source": [
    "#### Linear SVM on Weighted Tfidf-W2V using SGDClassifier"
   ]
  },
  {
   "cell_type": "code",
   "execution_count": 61,
   "metadata": {},
   "outputs": [
    {
     "data": {
      "text/plain": [
       "CalibratedClassifierCV(base_estimator=SGDClassifier(alpha=0.0001, average=False, class_weight='balanced',\n",
       "       epsilon=0.1, eta0=0.0, fit_intercept=True, l1_ratio=0.15,\n",
       "       learning_rate='optimal', loss='hinge', max_iter=1000, n_iter=None,\n",
       "       n_jobs=1, penalty='l2', power_t=0.5, random_state=0, shuffle=True,\n",
       "       tol=0.001, verbose=0, warm_start=False),\n",
       "            cv=TimeSeriesSplit(max_train_size=None, n_splits=5),\n",
       "            method='sigmoid')"
      ]
     },
     "execution_count": 61,
     "metadata": {},
     "output_type": "execute_result"
    }
   ],
   "source": [
    "# Linear kernel using SGDClassifier\n",
    "\n",
    "clf = SGDClassifier(loss='hinge',penalty='l2',max_iter=1000, tol=1e-3, class_weight='balanced',random_state=0)\n",
    "tscv = TimeSeriesSplit(n_splits=5)\n",
    "clf_svm = CalibratedClassifierCV(base_estimator=clf, cv=tscv, method='sigmoid')\n",
    "clf_svm.fit(tfidf_sent_vec_train, Y_train)"
   ]
  },
  {
   "cell_type": "code",
   "execution_count": 62,
   "metadata": {},
   "outputs": [
    {
     "name": "stdout",
     "output_type": "stream",
     "text": [
      "\tPrecision: 0.825\n",
      "\tRecall: 1.000\n",
      "\tF1: 0.904\n",
      "\tROC_AUC: 0.500\n"
     ]
    },
    {
     "data": {
      "image/png": "[encoded data removed]",
      "text/plain": [
       "<Figure size 432x288 with 2 Axes>"
      ]
     },
     "metadata": {},
     "output_type": "display_data"
    }
   ],
   "source": [
    "y_pred = clf_svm.predict(tfidf_sent_vec_test)\n",
    "print(\"\\tPrecision: %1.3f\" % precision_score(Y_test, y_pred))\n",
    "print(\"\\tRecall: %1.3f\" % recall_score(Y_test, y_pred))\n",
    "print(\"\\tF1: %1.3f\" % f1_score(Y_test, y_pred))\n",
    "print(\"\\tROC_AUC: %1.3f\" % roc_auc_score(Y_test, y_pred))\n",
    "df_cm = pd.DataFrame(confusion_matrix(Y_test, y_pred), range(2),range(2))\n",
    "sns.set(font_scale=1.4)#for label size\n",
    "sns.heatmap(df_cm, annot=True,annot_kws={\"size\": 16}, fmt='g')\n",
    "x.add_row([\"tf-idf-W2V\", \"Linear kernel using SGDClassifier\",clf_svm.predict, f1_score(Y_test, y_pred), roc_auc_score(Y_test, y_pred)])"
   ]
  },
  {
   "cell_type": "markdown",
   "metadata": {},
   "source": [
    "### RBF SVM"
   ]
  },
  {
   "cell_type": "markdown",
   "metadata": {},
   "source": [
    "#### RBF SVM on BagofWords"
   ]
  },
  {
   "cell_type": "code",
   "execution_count": 63,
   "metadata": {},
   "outputs": [],
   "source": [
    "#data splitting for RBF kernel\n",
    "y_train=final_sorted_time['Score'][0:13000]\n",
    "y_cv=final_sorted_time['Score'][13000:16000]\n",
    "y_test=final_sorted_time['Score'][16000:20000]"
   ]
  },
  {
   "cell_type": "code",
   "execution_count": 64,
   "metadata": {},
   "outputs": [],
   "source": [
    "\n",
    "X_train=final_sorted_time['CleanedText'][0:13000]\n",
    "X_cv=final_sorted_time['CleanedText'][13000:16000]\n",
    "X_test=final_sorted_time['CleanedText'][16000:20000]"
   ]
  },
  {
   "cell_type": "code",
   "execution_count": 65,
   "metadata": {},
   "outputs": [],
   "source": [
    "cnt_vec = CountVectorizer(ngram_range=(1,2), min_df=10, max_features=300)\n",
    "bow_train = cnt_vec.fit_transform(X_train)\n",
    "bow_cv  = cnt_vec.transform(X_cv)\n",
    "bow_test = cnt_vec.transform(X_test)\n"
   ]
  },
  {
   "cell_type": "code",
   "execution_count": 66,
   "metadata": {},
   "outputs": [
    {
     "name": "stdout",
     "output_type": "stream",
     "text": [
      "\tPrecision: 0.958\n",
      "\tRecall: 0.819\n",
      "\tF1: 0.883\n",
      "\tROC_AUC: 0.789\n"
     ]
    },
    {
     "data": {
      "image/png": "[encoded data removed]",
      "text/plain": [
       "<Figure size 432x288 with 2 Axes>"
      ]
     },
     "metadata": {},
     "output_type": "display_data"
    }
   ],
   "source": [
    "parameters = {'gamma':[10**-4, 10**-2, 10**0, 10**2, 10**4],\n",
    "             'C':[10**-4, 10**-2, 10**0, 10**2, 10**4]}\n",
    "tscv = TimeSeriesSplit(n_splits=5)\n",
    "rbfsvc = SVC(kernel='rbf',class_weight='balanced')\n",
    "clf_gs = GridSearchCV(rbfsvc, parameters, cv=tscv,scoring='roc_auc', n_jobs=-1)\n",
    "\n",
    "clf_gs.fit(bow_train, y_train)\n",
    "\n",
    "y_pred = clf_gs.best_estimator_.predict(bow_test)\n",
    "print(\"\\tPrecision: %1.3f\" % precision_score(y_test, y_pred))\n",
    "print(\"\\tRecall: %1.3f\" % recall_score(y_test, y_pred))\n",
    "print(\"\\tF1: %1.3f\" % f1_score(y_test, y_pred))\n",
    "print(\"\\tROC_AUC: %1.3f\" % roc_auc_score(y_test, y_pred))\n",
    "\n",
    "df_cm = pd.DataFrame(confusion_matrix(y_test, y_pred), range(2),range(2))\n",
    "sns.set(font_scale=1.4) #for label size\n",
    "sns.heatmap(df_cm, annot=True,annot_kws={\"size\": 16}, fmt='g')\n",
    "\n",
    "x.add_row([\"BoW\", \"RBF SVM\",clf_gs.best_params_, f1_score(y_test, y_pred), roc_auc_score(y_test, y_pred)])\n"
   ]
  },
  {
   "cell_type": "markdown",
   "metadata": {},
   "source": [
    " #### RBF SVM on TFIDF"
   ]
  },
  {
   "cell_type": "code",
   "execution_count": 67,
   "metadata": {},
   "outputs": [],
   "source": [
    "tfidf_vec = TfidfVectorizer(ngram_range=(1,2), min_df=10, max_features=300)\n",
    "tf_train = tfidf_vec.fit_transform(X_train)\n",
    "tf_cv  = tfidf_vec.transform(X_cv)\n",
    "tf_test = tfidf_vec.transform(X_test)"
   ]
  },
  {
   "cell_type": "code",
   "execution_count": 68,
   "metadata": {},
   "outputs": [
    {
     "name": "stdout",
     "output_type": "stream",
     "text": [
      "\tPrecision: 0.939\n",
      "\tRecall: 0.934\n",
      "\tF1: 0.937\n",
      "\tROC_AUC: 0.764\n"
     ]
    },
    {
     "data": {
      "image/png": "[encoded data removed]",
      "text/plain": [
       "<Figure size 432x288 with 2 Axes>"
      ]
     },
     "metadata": {},
     "output_type": "display_data"
    }
   ],
   "source": [
    "parameters = {'gamma':[10**-4, 10**-2, 10**0, 10**2, 10**4],\n",
    "             'C':[10**-4, 10**-2, 10**0, 10**2, 10**4]}\n",
    "tscv = TimeSeriesSplit(n_splits=5)\n",
    "rbfsvc = SVC(kernel='rbf',class_weight='balanced')\n",
    "clf_gs = GridSearchCV(rbfsvc, parameters, cv=tscv,scoring='roc_auc', n_jobs=-1)\n",
    "\n",
    "clf_gs.fit(tf_train, y_train)\n",
    "\n",
    "y_pred = clf_gs.best_estimator_.predict(tf_test)\n",
    "print(\"\\tPrecision: %1.3f\" % precision_score(y_test, y_pred))\n",
    "print(\"\\tRecall: %1.3f\" % recall_score(y_test, y_pred))\n",
    "print(\"\\tF1: %1.3f\" % f1_score(y_test, y_pred))\n",
    "print(\"\\tROC_AUC: %1.3f\" % roc_auc_score(y_test, y_pred))\n",
    "\n",
    "df_cm = pd.DataFrame(confusion_matrix(y_test, y_pred), range(2),range(2))\n",
    "sns.set(font_scale=1.4) #for label size\n",
    "sns.heatmap(df_cm, annot=True,annot_kws={\"size\": 16}, fmt='g')\n",
    "\n",
    "x.add_row([\"Tfidf\", \"RBF SVM\",clf_gs.best_params_, f1_score(y_test, y_pred), roc_auc_score(y_test, y_pred)])\n"
   ]
  },
  {
   "cell_type": "markdown",
   "metadata": {},
   "source": [
    "#### RBF SVM on Avg W2V"
   ]
  },
  {
   "cell_type": "code",
   "execution_count": 69,
   "metadata": {},
   "outputs": [],
   "source": [
    "avg_w2v = np.array(sent_vectors_train)"
   ]
  },
  {
   "cell_type": "code",
   "execution_count": 70,
   "metadata": {},
   "outputs": [
    {
     "data": {
      "text/plain": [
       "(49000, 50)"
      ]
     },
     "execution_count": 70,
     "metadata": {},
     "output_type": "execute_result"
    }
   ],
   "source": [
    "avg_w2v.shape"
   ]
  },
  {
   "cell_type": "code",
   "execution_count": 71,
   "metadata": {},
   "outputs": [],
   "source": [
    "\n",
    "avgw2v_train = avg_w2v[0:13000]\n",
    "avgw2v_cv = avg_w2v[13000:16000]\n",
    "avgw2v_test = avg_w2v[16000:20000]"
   ]
  },
  {
   "cell_type": "code",
   "execution_count": 72,
   "metadata": {},
   "outputs": [
    {
     "data": {
      "text/plain": [
       "(13000, 50)"
      ]
     },
     "execution_count": 72,
     "metadata": {},
     "output_type": "execute_result"
    }
   ],
   "source": [
    "avgw2v_train.shape"
   ]
  },
  {
   "cell_type": "code",
   "execution_count": 73,
   "metadata": {},
   "outputs": [
    {
     "data": {
      "text/plain": [
       "(13000,)"
      ]
     },
     "execution_count": 73,
     "metadata": {},
     "output_type": "execute_result"
    }
   ],
   "source": [
    "y_train.shape"
   ]
  },
  {
   "cell_type": "code",
   "execution_count": 74,
   "metadata": {},
   "outputs": [
    {
     "name": "stdout",
     "output_type": "stream",
     "text": [
      "\tPrecision: 0.974\n",
      "\tRecall: 0.796\n",
      "\tF1: 0.876\n",
      "\tROC_AUC: 0.825\n"
     ]
    },
    {
     "data": {
      "image/png": "[encoded data removed]",
      "text/plain": [
       "<Figure size 432x288 with 2 Axes>"
      ]
     },
     "metadata": {},
     "output_type": "display_data"
    }
   ],
   "source": [
    "parameters = {'gamma':[10**-4, 10**-2, 10**0, 10**2, 10**4],\n",
    "             'C':[10**-4, 10**-2, 10**0, 10**2, 10**4]}\n",
    "tscv = TimeSeriesSplit(n_splits=5)\n",
    "rbfsvc = SVC(kernel='rbf',class_weight='balanced')\n",
    "clf_gs = GridSearchCV(rbfsvc, parameters, cv=tscv,scoring='roc_auc', n_jobs=-1)\n",
    "\n",
    "clf_gs.fit(avgw2v_train, y_train)\n",
    "\n",
    "y_pred = clf_gs.best_estimator_.predict(avgw2v_test)\n",
    "print(\"\\tPrecision: %1.3f\" % precision_score(y_test, y_pred))\n",
    "print(\"\\tRecall: %1.3f\" % recall_score(y_test, y_pred))\n",
    "print(\"\\tF1: %1.3f\" % f1_score(y_test, y_pred))\n",
    "print(\"\\tROC_AUC: %1.3f\" % roc_auc_score(y_test, y_pred))\n",
    "\n",
    "df_cm = pd.DataFrame(confusion_matrix(y_test, y_pred), range(2),range(2))\n",
    "sns.set(font_scale=1.4) #for label size\n",
    "sns.heatmap(df_cm, annot=True,annot_kws={\"size\": 16}, fmt='g')\n",
    "\n",
    "x.add_row([\"Avg-W2V\", \"RBF SVM\",clf_gs.best_params_, f1_score(y_test, y_pred), roc_auc_score(y_test, y_pred)])\n"
   ]
  },
  {
   "cell_type": "markdown",
   "metadata": {},
   "source": [
    "#### RBF SVM on weighted tfidf-w2v"
   ]
  },
  {
   "cell_type": "code",
   "execution_count": 75,
   "metadata": {},
   "outputs": [
    {
     "data": {
      "text/plain": [
       "(49000, 50)"
      ]
     },
     "execution_count": 75,
     "metadata": {},
     "output_type": "execute_result"
    }
   ],
   "source": [
    "tfw2v_train.shape"
   ]
  },
  {
   "cell_type": "code",
   "execution_count": 76,
   "metadata": {},
   "outputs": [],
   "source": [
    "tfrbf_train = tfw2v_train[0:13000]\n",
    "tfrbf_cv = tfw2v_train[13000:16000]\n",
    "tfrbf_test = tfw2v_train[16000:20000]"
   ]
  },
  {
   "cell_type": "code",
   "execution_count": 77,
   "metadata": {},
   "outputs": [
    {
     "data": {
      "text/plain": [
       "(13000,)"
      ]
     },
     "execution_count": 77,
     "metadata": {},
     "output_type": "execute_result"
    }
   ],
   "source": [
    "y_train.shape"
   ]
  },
  {
   "cell_type": "code",
   "execution_count": 78,
   "metadata": {},
   "outputs": [
    {
     "name": "stdout",
     "output_type": "stream",
     "text": [
      "\tPrecision: 0.871\n",
      "\tRecall: 1.000\n",
      "\tF1: 0.931\n",
      "\tROC_AUC: 0.500\n"
     ]
    },
    {
     "data": {
      "image/png": "[encoded data removed]",
      "text/plain": [
       "<Figure size 432x288 with 2 Axes>"
      ]
     },
     "metadata": {},
     "output_type": "display_data"
    }
   ],
   "source": [
    "parameters = {'gamma':[10**-4, 10**-2, 10**0, 10**2, 10**4],\n",
    "             'C':[10**-4, 10**-2, 10**0, 10**2, 10**4]}\n",
    "tscv = TimeSeriesSplit(n_splits=5)\n",
    "rbfsvc = SVC(kernel='rbf',class_weight='balanced')\n",
    "clf_gs = GridSearchCV(rbfsvc, parameters, cv=tscv,scoring='roc_auc', n_jobs=-1)\n",
    "\n",
    "clf_gs.fit(tfrbf_train, y_train)\n",
    "\n",
    "y_pred = clf_gs.best_estimator_.predict(tfrbf_test)\n",
    "print(\"\\tPrecision: %1.3f\" % precision_score(y_test, y_pred))\n",
    "print(\"\\tRecall: %1.3f\" % recall_score(y_test, y_pred))\n",
    "print(\"\\tF1: %1.3f\" % f1_score(y_test, y_pred))\n",
    "print(\"\\tROC_AUC: %1.3f\" % roc_auc_score(y_test, y_pred))\n",
    "\n",
    "df_cm = pd.DataFrame(confusion_matrix(y_test, y_pred), range(2),range(2))\n",
    "sns.set(font_scale=1.4) #for label size\n",
    "sns.heatmap(df_cm, annot=True,annot_kws={\"size\": 16}, fmt='g')\n",
    "\n",
    "x.add_row([\"tfidf-W2V\", \"RBF SVM\",clf_gs.best_params_, f1_score(y_test, y_pred), roc_auc_score(y_test, y_pred)])"
   ]
  },
  {
   "cell_type": "markdown",
   "metadata": {},
   "source": [
    "### Conclusion"
   ]
  },
  {
   "cell_type": "code",
   "execution_count": 81,
   "metadata": {},
   "outputs": [
    {
     "name": "stdout",
     "output_type": "stream",
     "text": [
      "+-------+-------------------------------+----------------+----------------+----------------+---------------+----------------+\n",
      "| S.NO. |             MODEL             |   Best Alpha   |     Best C     |     gamma      | Testing's AUC |    Penalty     |\n",
      "+-------+-------------------------------+----------------+----------------+----------------+---------------+----------------+\n",
      "|   1   |      Linear SVM with BOW      |      0.01      | Not Applicable | Not Applicable |      0.85     |       L2       |\n",
      "|   2   |     Linear SVM with TFIDF     |     1e-05      | Not Applicable | Not Applicable |     0.873     |       L2       |\n",
      "|   3   |    Linear SVM with AVG W2V    |      0.01      | Not Applicable | Not Applicable |     0.674     |       L2       |\n",
      "|   4   |   Linear SVM with TFIDF W2V   |     0.001      | Not Applicable | Not Applicable |      0.5      |       L2       |\n",
      "|   5   |    RBF Kernel SVM with BOW    | Not Applicable |       1        |      0.01      |     0.789     | Not Applicable |\n",
      "|   6   |   RBF Kernel SVM with TFIDF   | Not Applicable |       1        |       1        |     0.764     | Not Applicable |\n",
      "|   7   |  RBF Kernel SVM with AVG W2V  | Not Applicable |       10       |      0.01      |     0.825     | Not Applicable |\n",
      "|   8   | RBF Kernel SVM with TFIDF W2v | Not Applicable |      1000      |     0.001      |      0.5      | Not Applicable |\n",
      "+-------+-------------------------------+----------------+----------------+----------------+---------------+----------------+\n"
     ]
    }
   ],
   "source": [
    "from prettytable import PrettyTable\n",
    "\n",
    "# Names of models\n",
    "names= ['Linear SVM with BOW','Linear SVM with TFIDF', 'Linear SVM with AVG W2V','Linear SVM with TFIDF W2V',\\\n",
    "       'RBF Kernel SVM with BOW','RBF Kernel SVM with TFIDF','RBF Kernel SVM with AVG W2V','RBF Kernel SVM with TFIDF W2v']\n",
    "\n",
    "optimal_alpha = [0.01, 1e-05, 0.01, 0.001,'Not Applicable','Not Applicable','Not Applicable','Not Applicable']\n",
    "values_of_C=['Not Applicable','Not Applicable','Not Applicable','Not Applicable',1,1,10,1000]\n",
    "gammas=['Not Applicable','Not Applicable','Not Applicable','Not Applicable',0.01,1,0.01,0.001]\n",
    "\n",
    "test_value=[0.850, 0.873,0.674,0.500,0.789,0.764,0.825,0.500]\n",
    "pen=['L2','L2','L2','L2', 'Not Applicable','Not Applicable','Not Applicable','Not Applicable']\n",
    "\n",
    "\n",
    "\n",
    "numbering = [1,2,3,4,5,6,7,8]\n",
    "\n",
    "# Initializing prettytable\n",
    "ptable = PrettyTable()\n",
    "\n",
    "# Adding columns\n",
    "ptable.add_column(\"S.NO.\",numbering)\n",
    "ptable.add_column(\"MODEL\",names)\n",
    "ptable.add_column(\"Best Alpha\",optimal_alpha)\n",
    "ptable.add_column(\"Best C\", values_of_C)\n",
    "ptable.add_column(\"gamma\",gammas)\n",
    "#ptable.add_column(\"Training's AUC\",training_value)\n",
    "#ptable.add_column(\"CV's AUC\",cv_value)\n",
    "ptable.add_column(\"Testing's AUC\",test_value)\n",
    "ptable.add_column(\"Penalty\",pen)\n",
    "\n",
    "# Printing the Table\n",
    "ptable.align = \"c\"\n",
    "#from prettytable import MSWORD_FRIENDLY\n",
    "#ptable.set_style(MSWORD_FRIENDLY)\n",
    "\n",
    "print(ptable)"
   ]
  },
  {
   "cell_type": "markdown",
   "metadata": {},
   "source": [
    "#### From above table we can see that AUC value for Linear SVM with TFIDF is pretty well among all."
   ]
  },
  {
   "cell_type": "code",
   "execution_count": null,
   "metadata": {},
   "outputs": [],
   "source": []
  }
 ],
 "metadata": {
  "kernelspec": {
   "display_name": "Python 3",
   "language": "python",
   "name": "python3"
  },
  "language_info": {
   "codemirror_mode": {
    "name": "ipython",
    "version": 3
   },
   "file_extension": ".py",
   "mimetype": "text/x-python",
   "name": "python",
   "nbconvert_exporter": "python",
   "pygments_lexer": "ipython3",
   "version": "3.6.5"
  }
 },
 "nbformat": 4,
 "nbformat_minor": 2
}
